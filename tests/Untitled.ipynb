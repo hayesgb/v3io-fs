{
 "cells": [
  {
   "cell_type": "code",
   "execution_count": 1,
   "metadata": {},
   "outputs": [],
   "source": [
    "from collections import namedtuple\n",
    "from datetime import datetime\n",
    "from getpass import getuser\n",
    "from os import environ\n",
    "\n",
    "import pytest\n",
    "\n",
    "from v3iofs import V3ioFS\n",
    "from v3iofs import V3ioFile\n",
    "\n",
    "import dask.dataframe as dd"
   ]
  },
  {
   "cell_type": "code",
   "execution_count": 2,
   "metadata": {},
   "outputs": [],
   "source": [
    "# !pip install pyarrow"
   ]
  },
  {
   "cell_type": "code",
   "execution_count": 3,
   "metadata": {},
   "outputs": [],
   "source": [
    "host = environ.get('V3IO_API')\n",
    "access_key = environ.get('V3IO_ACCESS_KEY')\n",
    "container = 'bigdata'  # TODO: configure"
   ]
  },
  {
   "cell_type": "code",
   "execution_count": 4,
   "metadata": {},
   "outputs": [],
   "source": [
    "fs = V3ioFS()"
   ]
  },
  {
   "cell_type": "code",
   "execution_count": 5,
   "metadata": {},
   "outputs": [],
   "source": [
    "ddf = dd.read_parquet(\"v3io://bigdata/artifacts/relentless_recovery/112af96e-5353-4c95-9e4e-8ac2774b93fa/raw_handwash_data.parquet\")"
   ]
  },
  {
   "cell_type": "code",
   "execution_count": 6,
   "metadata": {},
   "outputs": [
    {
     "data": {
      "text/html": [
       "<div>\n",
       "<style scoped>\n",
       "    .dataframe tbody tr th:only-of-type {\n",
       "        vertical-align: middle;\n",
       "    }\n",
       "\n",
       "    .dataframe tbody tr th {\n",
       "        vertical-align: top;\n",
       "    }\n",
       "\n",
       "    .dataframe thead th {\n",
       "        text-align: right;\n",
       "    }\n",
       "</style>\n",
       "<table border=\"1\" class=\"dataframe\">\n",
       "  <thead>\n",
       "    <tr style=\"text-align: right;\">\n",
       "      <th></th>\n",
       "      <th>Id</th>\n",
       "      <th>eventCode</th>\n",
       "      <th>inputCounter</th>\n",
       "      <th>DispenserProduct</th>\n",
       "      <th>MACAddress</th>\n",
       "      <th>Description</th>\n",
       "      <th>EventDateTimeLocal</th>\n",
       "      <th>AccountNumber</th>\n",
       "    </tr>\n",
       "    <tr>\n",
       "      <th>index</th>\n",
       "      <th></th>\n",
       "      <th></th>\n",
       "      <th></th>\n",
       "      <th></th>\n",
       "      <th></th>\n",
       "      <th></th>\n",
       "      <th></th>\n",
       "      <th></th>\n",
       "    </tr>\n",
       "  </thead>\n",
       "  <tbody>\n",
       "    <tr>\n",
       "      <th>0</th>\n",
       "      <td>02i0q000000uJ1gAAE</td>\n",
       "      <td>1</td>\n",
       "      <td>839</td>\n",
       "      <td>Soap Liquid (750mL)</td>\n",
       "      <td>443043463545464245383934</td>\n",
       "      <td>19</td>\n",
       "      <td>2020-05-01 12:02:10</td>\n",
       "      <td>0504098826</td>\n",
       "    </tr>\n",
       "    <tr>\n",
       "      <th>1</th>\n",
       "      <td>02i0q000000uJ1gAAE</td>\n",
       "      <td>1</td>\n",
       "      <td>842</td>\n",
       "      <td>Soap Liquid (750mL)</td>\n",
       "      <td>443043463545464245383934</td>\n",
       "      <td>19</td>\n",
       "      <td>2020-05-01 13:21:17</td>\n",
       "      <td>0504098826</td>\n",
       "    </tr>\n",
       "    <tr>\n",
       "      <th>2</th>\n",
       "      <td>02i0q000000uJ1gAAE</td>\n",
       "      <td>1</td>\n",
       "      <td>840</td>\n",
       "      <td>Soap Liquid (750mL)</td>\n",
       "      <td>443043463545464245383934</td>\n",
       "      <td>19</td>\n",
       "      <td>2020-05-01 13:20:15</td>\n",
       "      <td>0504098826</td>\n",
       "    </tr>\n",
       "    <tr>\n",
       "      <th>3</th>\n",
       "      <td>02i0q000000uJ1gAAE</td>\n",
       "      <td>1</td>\n",
       "      <td>845</td>\n",
       "      <td>Soap Liquid (750mL)</td>\n",
       "      <td>443043463545464245383934</td>\n",
       "      <td>19</td>\n",
       "      <td>2020-05-01 14:39:28</td>\n",
       "      <td>0504098826</td>\n",
       "    </tr>\n",
       "    <tr>\n",
       "      <th>4</th>\n",
       "      <td>02i0q000000uJ1gAAE</td>\n",
       "      <td>1</td>\n",
       "      <td>841</td>\n",
       "      <td>Soap Liquid (750mL)</td>\n",
       "      <td>443043463545464245383934</td>\n",
       "      <td>19</td>\n",
       "      <td>2020-05-01 13:20:16</td>\n",
       "      <td>0504098826</td>\n",
       "    </tr>\n",
       "  </tbody>\n",
       "</table>\n",
       "</div>"
      ],
      "text/plain": [
       "                       Id eventCode inputCounter     DispenserProduct  \\\n",
       "index                                                                   \n",
       "0      02i0q000000uJ1gAAE         1          839  Soap Liquid (750mL)   \n",
       "1      02i0q000000uJ1gAAE         1          842  Soap Liquid (750mL)   \n",
       "2      02i0q000000uJ1gAAE         1          840  Soap Liquid (750mL)   \n",
       "3      02i0q000000uJ1gAAE         1          845  Soap Liquid (750mL)   \n",
       "4      02i0q000000uJ1gAAE         1          841  Soap Liquid (750mL)   \n",
       "\n",
       "                     MACAddress Description  EventDateTimeLocal AccountNumber  \n",
       "index                                                                          \n",
       "0      443043463545464245383934          19 2020-05-01 12:02:10    0504098826  \n",
       "1      443043463545464245383934          19 2020-05-01 13:21:17    0504098826  \n",
       "2      443043463545464245383934          19 2020-05-01 13:20:15    0504098826  \n",
       "3      443043463545464245383934          19 2020-05-01 14:39:28    0504098826  \n",
       "4      443043463545464245383934          19 2020-05-01 13:20:16    0504098826  "
      ]
     },
     "execution_count": 6,
     "metadata": {},
     "output_type": "execute_result"
    }
   ],
   "source": [
    "ddf.head()"
   ]
  },
  {
   "cell_type": "code",
   "execution_count": 7,
   "metadata": {},
   "outputs": [
    {
     "data": {
      "text/plain": [
       "[{'name': '/usershayesgr/v3io-fs/.empty', 'type': 'directory', 'size': 0},\n",
       " {'name': '/usershayesgr/v3io-fs/.git', 'type': 'directory', 'size': 0},\n",
       " {'name': '/usershayesgr/v3io-fs/.github', 'type': 'directory', 'size': 0},\n",
       " {'name': '/usershayesgr/v3io-fs/.pytest_cache',\n",
       "  'type': 'directory',\n",
       "  'size': 0},\n",
       " {'name': '/usershayesgr/v3io-fs/dist', 'type': 'directory', 'size': 0},\n",
       " {'name': '/usershayesgr/v3io-fs/tests', 'type': 'directory', 'size': 0},\n",
       " {'name': '/usershayesgr/v3io-fs/v3iofs', 'type': 'directory', 'size': 0},\n",
       " {'name': '/usershayesgr/v3io-fs/v3iofs.egg-info',\n",
       "  'type': 'directory',\n",
       "  'size': 0},\n",
       " {'name': '/usershayesgr/v3io-fs/.gitignore', 'type': 'file', 'size': 64},\n",
       " {'name': '/usershayesgr/v3io-fs/LICENSE.txt', 'type': 'file', 'size': 11357},\n",
       " {'name': '/usershayesgr/v3io-fs/MANIFEST.in', 'type': 'file', 'size': 105},\n",
       " {'name': '/usershayesgr/v3io-fs/Makefile', 'type': 'file', 'size': 769},\n",
       " {'name': '/usershayesgr/v3io-fs/README.md', 'type': 'file', 'size': 1509},\n",
       " {'name': '/usershayesgr/v3io-fs/dev-requirements.txt',\n",
       "  'type': 'file',\n",
       "  'size': 82},\n",
       " {'name': '/usershayesgr/v3io-fs/requirements.txt',\n",
       "  'type': 'file',\n",
       "  'size': 43},\n",
       " {'name': '/usershayesgr/v3io-fs/setup.py', 'type': 'file', 'size': 2373}]"
      ]
     },
     "execution_count": 7,
     "metadata": {},
     "output_type": "execute_result"
    }
   ],
   "source": [
    "fs.ls(\"users/hayesgr/v3io-fs\", detail=True)"
   ]
  },
  {
   "cell_type": "code",
   "execution_count": null,
   "metadata": {},
   "outputs": [],
   "source": []
  },
  {
   "cell_type": "code",
   "execution_count": null,
   "metadata": {},
   "outputs": [],
   "source": [
    "v3f = V3ioFile(fs, path=\"/users/hayesgr/v3io-fs/tests/test_dask.py\", )"
   ]
  },
  {
   "cell_type": "code",
   "execution_count": null,
   "metadata": {},
   "outputs": [],
   "source": [
    "v3f = V3ioFile(fs, path=\"v3io:///users/hayesgr/v3io-fs/tests/test_dask.py\")"
   ]
  },
  {
   "cell_type": "code",
   "execution_count": null,
   "metadata": {},
   "outputs": [],
   "source": [
    "v3f.path"
   ]
  },
  {
   "cell_type": "code",
   "execution_count": null,
   "metadata": {},
   "outputs": [],
   "source": [
    "v3f.path"
   ]
  },
  {
   "cell_type": "code",
   "execution_count": null,
   "metadata": {},
   "outputs": [],
   "source": [
    "s = \"v3io:///x/y/z\""
   ]
  },
  {
   "cell_type": "code",
   "execution_count": null,
   "metadata": {},
   "outputs": [],
   "source": [
    "s.partition(\":///\")"
   ]
  },
  {
   "cell_type": "code",
   "execution_count": null,
   "metadata": {},
   "outputs": [],
   "source": []
  }
 ],
 "metadata": {
  "kernelspec": {
   "display_name": "Python [conda env:.conda-v3iofs]",
   "language": "python",
   "name": "conda-env-.conda-v3iofs-py"
  },
  "language_info": {
   "codemirror_mode": {
    "name": "ipython",
    "version": 3
   },
   "file_extension": ".py",
   "mimetype": "text/x-python",
   "name": "python",
   "nbconvert_exporter": "python",
   "pygments_lexer": "ipython3",
   "version": "3.6.7"
  }
 },
 "nbformat": 4,
 "nbformat_minor": 4
}
